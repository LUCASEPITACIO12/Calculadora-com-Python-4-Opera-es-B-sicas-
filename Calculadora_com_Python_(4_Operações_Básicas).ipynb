{
  "nbformat": 4,
  "nbformat_minor": 0,
  "metadata": {
    "colab": {
      "provenance": [],
      "toc_visible": true
    },
    "kernelspec": {
      "name": "python3",
      "display_name": "Python 3"
    },
    "language_info": {
      "name": "python"
    }
  },
  "cells": [
    {
      "cell_type": "markdown",
      "source": [
        "# Calculadora com Python (4 Operações Básicas)\n",
        "Essa atividade tem como objetivo praticar o conteúdo do módulo de Lógica de Programação com Python."
      ],
      "metadata": {
        "id": "fTx2vy7RiAs0"
      }
    },
    {
      "cell_type": "markdown",
      "source": [
        "## Entrada de Dados\n",
        "Nesta etapa, o programa solicita dois números.\n",
        "\n",
        "\n"
      ],
      "metadata": {
        "id": "1lr2eXZajMt8"
      }
    },
    {
      "cell_type": "code",
      "execution_count": 4,
      "metadata": {
        "colab": {
          "base_uri": "https://localhost:8080/"
        },
        "id": "gfPiisaNBHNi",
        "outputId": "fadeb60a-5459-4e4f-cfb8-3ac57070836c"
      },
      "outputs": [
        {
          "output_type": "stream",
          "name": "stdout",
          "text": [
            "digite o primeiro número: 10\n",
            "digite o segundo número: 5\n",
            "<class 'int'>\n",
            "<class 'int'>\n",
            "15\n",
            "5\n",
            "50\n",
            "2.0\n"
          ]
        }
      ],
      "source": [
        "# Solicita os dois números\n",
        "num1 = int(input(\"digite o primeiro número: \"))\n",
        "num2 = int(input(\"digite o segundo número: \"))\n",
        "\n",
        "# Exibe os tipos de dados\n",
        "print(type(num1))\n",
        "print(type(num2))\n",
        "\n",
        "# Realiza as operações metemáticas\n",
        "soma = num1 + num2 # soma\n",
        "subtração = num1 - num2 # subtração\n",
        "multiplicação = num1 * num2 # multiplicação\n",
        "divisão= num1 / num2 # divisão\n",
        "\n",
        "print(soma)\n",
        "print(subtração)\n",
        "print(multiplicação)\n",
        "print(divisão)"
      ]
    },
    {
      "cell_type": "markdown",
      "source": [
        "## Escolha de Operação - Método If\n",
        "O usuário pode escolher qual operação deseja realizar, e o resultado será apresentado. Para realizar outra operação, é necessário rodar o código novamente."
      ],
      "metadata": {
        "id": "mG6Sp5dEa8mA"
      }
    },
    {
      "cell_type": "code",
      "source": [
        "operação = input(\"Digite a operação desejada (+, -, *, /): \")\n",
        "if operação == \"+\":\n",
        "  print(\"resultado:\", num1 + num2)\n",
        "elif operação == \"-\":\n",
        "  print(\"resultado:\", num1 - num2)\n",
        "elif operação == \"*\":\n",
        "  print(\"resultado:\", num1 * num2)\n",
        "elif operação ==\"/\":\n",
        "  print(\"resultado:\", num1 / num2)\n",
        "else:\n",
        "  print(\"operação inválida\")"
      ],
      "metadata": {
        "colab": {
          "base_uri": "https://localhost:8080/"
        },
        "id": "T1qdxEaDVgzt",
        "outputId": "b6a985a4-83ae-488c-d9d5-054a3720184b"
      },
      "execution_count": 13,
      "outputs": [
        {
          "output_type": "stream",
          "name": "stdout",
          "text": [
            "Digite a operação desejada (+, -, *, /): -\n",
            "resultado: 5\n"
          ]
        }
      ]
    },
    {
      "cell_type": "markdown",
      "source": [
        "## Escolha de Operação Método While(Loop)\n",
        "O usuário pode escolher qual operação deseja fazer e repetir até digitar \"sair\"."
      ],
      "metadata": {
        "id": "5FU8vo5UZwzk"
      }
    },
    {
      "cell_type": "code",
      "source": [
        "while True:\n",
        "  operação = input(\"Digite a operação desejada: (+, -, *, /) ou 'sair' para encerrar: \")\n",
        "  if operação == \"sair\":\n",
        "    print(\"encerrado\")\n",
        "    break\n",
        "  elif operação == \"+\":\n",
        "    print(\"resultado:\", num1 + num2)\n",
        "  elif operação == \"-\":\n",
        "    print(\"resultado:\", num1 - num2)\n",
        "  elif operação == \"*\":\n",
        "    print(\"resultado:\", num1 * num2)\n",
        "  elif operação == \"/\":\n",
        "    print(\"resultado:\", num1 / num2)\n",
        "  else:\n",
        "    print(\"operação inválida\")"
      ],
      "metadata": {
        "colab": {
          "base_uri": "https://localhost:8080/"
        },
        "id": "529-LDgSaZg0",
        "outputId": "43289f12-2daa-4109-b01e-7eff273d37e8"
      },
      "execution_count": 11,
      "outputs": [
        {
          "output_type": "stream",
          "name": "stdout",
          "text": [
            "Digite a operação desejada: (+, -, *, /) ou 'sair' para encerrar: +\n",
            "resultado: 15\n",
            "Digite a operação desejada: (+, -, *, /) ou 'sair' para encerrar: -\n",
            "resultado: 5\n",
            "Digite a operação desejada: (+, -, *, /) ou 'sair' para encerrar: *\n",
            "resultado: 50\n",
            "Digite a operação desejada: (+, -, *, /) ou 'sair' para encerrar: /\n",
            "resultado: 2.0\n",
            "Digite a operação desejada: (+, -, *, /) ou 'sair' para encerrar: l\n",
            "operação inválida\n",
            "Digite a operação desejada: (+, -, *, /) ou 'sair' para encerrar: sair\n",
            "encerrado\n"
          ]
        }
      ]
    },
    {
      "cell_type": "code",
      "source": [],
      "metadata": {
        "id": "7bxxygLzfDIi"
      },
      "execution_count": null,
      "outputs": []
    }
  ]
}
